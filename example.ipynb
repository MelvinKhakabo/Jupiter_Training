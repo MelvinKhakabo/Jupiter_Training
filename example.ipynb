{
 "cells": [
  {
   "cell_type": "markdown",
   "metadata": {},
   "source": [
    "# Introduction to python\n",
    "\n",
    "This is a python tutorial for beginners.\n",
    "\n",
    "We will cover the following topics:\n",
    "1. Installation\n",
    "2. Basic syntax\n",
    "3. Data types\n",
    "4. Running you first code\n",
    "5. Commit your changes to GitHub\n",
    "   \n",
    "You must have the following\n",
    "- [ ] laptop\n",
    "- [ ] wifi\n",
    "- [x] basic computer knowledge\n",
    "- [x] will to learn\n",
    "  \n",
    "  \n",
    "  ## Let's dive in\n",
    "  _are you ready?_\n",
    "\n",
    "  You must have a [GitHub] profile read for example **(https://github.com/MelvinKhakabo/)**\n",
    "\n",
    "  This is the structure of the coursework\n",
    "\n",
    "  |Week  | Task | Instructor|\n",
    "  |------|------|------|\n",
    "  |Week 1 | Introduction | Mark|\n",
    "  |Week 2 | Data types | Sam|\n",
    "  |Week 3 | GitHub | Penn |\n",
    "\n",
    "\n",
    "  ---\n",
    "\n",
    "  \n"
   ]
  },
  {
   "cell_type": "code",
   "execution_count": 1,
   "metadata": {},
   "outputs": [
    {
     "name": "stdout",
     "output_type": "stream",
     "text": [
      "Hello, world!\n"
     ]
    }
   ],
   "source": [
    "print(\"Hello, world!\")"
   ]
  },
  {
   "cell_type": "code",
   "execution_count": 2,
   "metadata": {},
   "outputs": [
    {
     "name": "stdout",
     "output_type": "stream",
     "text": [
      "3\n"
     ]
    }
   ],
   "source": [
    "a = 1\n",
    "b = 2\n",
    "\n",
    "print(a + b)"
   ]
  },
  {
   "cell_type": "code",
   "execution_count": 3,
   "metadata": {},
   "outputs": [
    {
     "name": "stdout",
     "output_type": "stream",
     "text": [
      "2\n"
     ]
    }
   ],
   "source": [
    "a = 1\n",
    "b = 2\n",
    "print(a * b)"
   ]
  }
 ],
 "metadata": {
  "kernelspec": {
   "display_name": "Python 3",
   "language": "python",
   "name": "python3"
  },
  "language_info": {
   "codemirror_mode": {
    "name": "ipython",
    "version": 3
   },
   "file_extension": ".py",
   "mimetype": "text/x-python",
   "name": "python",
   "nbconvert_exporter": "python",
   "pygments_lexer": "ipython3",
   "version": "3.13.0"
  }
 },
 "nbformat": 4,
 "nbformat_minor": 2
}
